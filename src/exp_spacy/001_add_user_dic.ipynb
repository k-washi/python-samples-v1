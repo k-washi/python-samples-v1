{
 "cells": [
  {
   "cell_type": "markdown",
   "source": [
    "# ginza (sudachi)へのユーザ辞書の追加"
   ],
   "metadata": {}
  },
  {
   "cell_type": "code",
   "execution_count": 1,
   "source": [
    "import os\n",
    "if \"src\" in os.getcwd():\n",
    "    os.chdir(\"../..\")\n",
    "print(os.getcwd())"
   ],
   "outputs": [
    {
     "output_type": "stream",
     "name": "stdout",
     "text": [
      "/workspace\n"
     ]
    }
   ],
   "metadata": {}
  },
  {
   "cell_type": "code",
   "execution_count": 2,
   "source": [
    "import spacy, ja_ginza, sudachipy, sudachidict_core"
   ],
   "outputs": [],
   "metadata": {}
  },
  {
   "cell_type": "code",
   "execution_count": 4,
   "source": [
    "spacy.__version__, ja_ginza.__version__, sudachipy.__version__"
   ],
   "outputs": [
    {
     "output_type": "execute_result",
     "data": {
      "text/plain": [
       "('3.2.2', '5.1.0', '0.6.3')"
      ]
     },
     "metadata": {},
     "execution_count": 4
    }
   ],
   "metadata": {}
  },
  {
   "cell_type": "code",
   "execution_count": 87,
   "source": [
    "user_dic_list = [\n",
    "    [\"名詞-固有名詞-人名-一般\", \"ルイズ・フランソワーズ\"],\n",
    "    [\"名詞-固有名詞-一般\", \"ゼロの使い魔\"],\n",
    "]"
   ],
   "outputs": [],
   "metadata": {}
  },
  {
   "cell_type": "code",
   "execution_count": 89,
   "source": [
    "import re\n",
    "import unicodedata\n",
    "\n",
    "\n",
    "def _unicode_normalize(cls, s):\n",
    "    pt = re.compile('([{}]+)'.format(cls))\n",
    "\n",
    "    def norm(c):\n",
    "        return unicodedata.normalize('NFKC', c) if pt.match(c) else c\n",
    "\n",
    "    s = ''.join(norm(x) for x in re.split(pt, s))\n",
    "    s = re.sub('－', '-', s)\n",
    "    return s\n",
    "\n",
    "def _remove_extra_spaces(s):\n",
    "    \"\"\"\n",
    "    余計なスペースは除去\n",
    "    \"\"\"\n",
    "    s = re.sub('[ 　]+', ' ', s)\n",
    "    blocks = ''.join(('\\u4E00-\\u9FFF',  # CJK UNIFIED IDEOGRAPHS\n",
    "                      '\\u3040-\\u309F',  # HIRAGANA\n",
    "                      '\\u30A0-\\u30FF',  # KATAKANA\n",
    "                      '\\u3000-\\u303F',  # CJK SYMBOLS AND PUNCTUATION\n",
    "                      '\\uFF00-\\uFFEF'   # HALFWIDTH AND FULLWIDTH FORMS\n",
    "                      ))\n",
    "    basic_latin = '\\u0000-\\u007F'\n",
    "\n",
    "    def remove_space_between(cls1, cls2, s):\n",
    "        p = re.compile('([{}]) ([{}])'.format(cls1, cls2))\n",
    "        while p.search(s):\n",
    "            s = p.sub(r'\\1\\2', s)\n",
    "        return s\n",
    "\n",
    "    s = remove_space_between(blocks, blocks, s)\n",
    "    s = remove_space_between(blocks, basic_latin, s)\n",
    "    s = remove_space_between(basic_latin, blocks, s)\n",
    "    return s\n",
    "\n",
    "def _normalize_neologd(s):\n",
    "    \"\"\"\n",
    "    全角の記号は半角に変換、大文字は小文字に\n",
    "    \"\"\"\n",
    "    s = s.strip()\n",
    "    s = _unicode_normalize('０-９Ａ-Ｚａ-ｚ｡-ﾟ', s)\n",
    "\n",
    "    def maketrans(f, t):\n",
    "        return {ord(x): ord(y) for x, y in zip(f, t)}\n",
    "\n",
    "    s = re.sub('[˗֊‐‑‒–⁃⁻₋−]+', '-', s)  # normalize hyphens\n",
    "    s = re.sub('[﹣－ｰ—―─━ー]+', 'ー', s)  # normalize choonpus\n",
    "    s = re.sub('[~∼∾〜〰～]+', '〜', s)  # normalize tildes (modified by Isao Sonobe)\n",
    "    s = s.translate(\n",
    "        maketrans('!\"#$%&\\'()*+,-./:;<=>?@[¥]^_`{|}~｡､･｢｣',\n",
    "              '！”＃＄％＆’（）＊＋，－．／：；＜＝＞？＠［￥］＾＿｀｛｜｝〜。、・「」'))\n",
    "\n",
    "    s = _remove_extra_spaces(s)\n",
    "    s = _unicode_normalize('！”＃＄％＆’（）＊＋，－．／：；＜＞？＠［￥］＾＿｀｛｜｝〜', s)  # keep ＝,・,「,」\n",
    "    s = re.sub('[’]', '\\'', s)\n",
    "    s = re.sub('[”]', '\"', s)\n",
    "    return s\n",
    "\n",
    "def normalize_text(text):\n",
    "    text = text.replace(\"\\n\", \"\").replace(\"\\r\", \"\").replace(\"\\t\", \" \")\n",
    "    #text = text.replace(\"・\", \"\")\n",
    "    text = text.lower()\n",
    "    return text\n",
    "    "
   ],
   "outputs": [],
   "metadata": {}
  },
  {
   "cell_type": "markdown",
   "source": [
    "# 辞書に格納\n",
    "\n",
    "[sudachi ユーザ辞書 公式のドキュメント](https://github.com/WorksApplications/Sudachi/blob/develop/docs/user_dict.md)\n",
    "\n",
    "以下のlistを形成して、listに追加していく\n",
    "\n",
    "columns = [\"見出し\", \"左連接ID\", \"右連接ID\", \"コスト\", \"見出し\", \"品詞1\", \"品詞2\", \"品詞3\", \"品詞4\", \n",
    "           \"品詞 (活用型)\", \"品詞 (活用形)\", \"読み\", \"正規化表記\", \"辞書形ID\", \"分割タイプ\", \"A単位分割情報\", \"B単位分割情報\", \"未使用\"]"
   ],
   "metadata": {}
  },
  {
   "cell_type": "code",
   "execution_count": 90,
   "source": [
    "def hinshi_format(hinshi):\n",
    "    if hinshi == \"名詞-固有名詞-人名-一般\":\n",
    "        hinshi = \"名詞\"\n",
    "        hinshi_t1 = \"固有名詞\"\n",
    "        hinshi_t2 = \"人名\"\n",
    "        hinshi_t3 = \"一般\"\n",
    "        rensa_id = 4788\n",
    "    elif hinshi == \"名詞-一般\":\n",
    "        hinshi = \"名詞\"\n",
    "        hinshi_t1 = \"普通名詞\"\n",
    "        hinshi_t2 = \"一般\"\n",
    "        hinshi_t3 = \"*\"\n",
    "        rensa_id = 5146\n",
    "    elif hinshi == \"名詞-サ変接続\":\n",
    "        hinshi = \"名詞\"\n",
    "        hinshi_t1 = \"普通名詞\"\n",
    "        hinshi_t2 = \"サ変接続\"\n",
    "        hinshi_t3 = \"*\"\n",
    "        rensa_id = 5133\n",
    "    elif hinshi == \"名詞-固有名詞-一般\":\n",
    "        hinshi = \"名詞\"\n",
    "        hinshi_t1 = \"固有名詞\"\n",
    "        hinshi_t2 = \"一般\"\n",
    "        hinshi_t3 = \"*\"\n",
    "        rensa_id = 4786\n",
    "    elif hinshi ==\"名詞-固有名詞-地名-一般\":\n",
    "        hinshi = \"名詞\"\n",
    "        hinshi_t1 = \"固有名詞\"\n",
    "        hinshi_t2 = \"地名\"\n",
    "        hinshi_t3 = \"一般\"\n",
    "        rensa_id = 4792\n",
    "    elif hinshi == \"名詞-固有名詞-人名-姓\":\n",
    "        hinshi = \"名詞\"\n",
    "        hinshi_t1 = \"固有名詞\"\n",
    "        hinshi_t2 = \"人名\"\n",
    "        hinshi_t3 = \"姓\"\n",
    "        rensa_id = 4790\n",
    "    elif hinshi == \"名詞-固有名詞-人名-名\":\n",
    "        hinshi = \"名詞\"\n",
    "        hinshi_t1 = \"固有名詞\"\n",
    "        hinshi_t2 = \"人名\"\n",
    "        hinshi_t3 = \"名\"\n",
    "        rensa_id = 4789\n",
    "    elif hinshi == \"形容詞\":\n",
    "        # IPAでは、形容動詞は名詞の形容動詞語幹として含まれ、 形容詞には含まれない\n",
    "        # sudachiでは、Juman => 形容詞\n",
    "        hinshi = \"形容詞\"\n",
    "        hinshi_t1 = \"一般\"\n",
    "        hinshi_t2 = \"*\"\n",
    "        hinshi_t3 = \"*\"\n",
    "        rensa_id = 5161\n",
    "    else:\n",
    "        print(hinshi)\n",
    "        raise ValueError(f\"ルールにない品詞が含まれいます。{hinshi}\")\n",
    "    return hinshi, hinshi_t1, hinshi_t2, hinshi_t3, rensa_id"
   ],
   "outputs": [],
   "metadata": {}
  },
  {
   "cell_type": "code",
   "execution_count": 91,
   "source": [
    "new_user_dic = []\n",
    "\n",
    "for hinshi, hyouki in user_dic_list:\n",
    "    # 本当は、より細かい正規化が必要\n",
    "    hyouki = normalize_text(hyouki)\n",
    "\n",
    "    cost = -5000 + int(10000 / len(hyouki)) # 名詞の場合5000 ~ 9000が推奨らしいが、かなり低めに設定\n",
    "    hinshi, hinshi_t1, hinshi_t2, hinshi_t3, rensa_id = hinshi_format(hinshi)\n",
    "    \n",
    "    sudashi_form =  [hyouki, rensa_id, rensa_id, cost, hyouki, hinshi, hinshi_t1, hinshi_t2, hinshi_t3,\"*\",\"*\", hyouki, hyouki,\"*\",\"*\",\"*\",\"*\",\"*\"]\n",
    "    new_user_dic.append(sudashi_form)\n",
    "print(new_user_dic[0])\n",
    "print(new_user_dic[-1])"
   ],
   "outputs": [
    {
     "output_type": "stream",
     "name": "stdout",
     "text": [
      "['ルイズ・フランソワーズ', 4788, 4788, -4091, 'ルイズ・フランソワーズ', '名詞', '固有名詞', '人名', '一般', '*', '*', 'ルイズ・フランソワーズ', 'ルイズ・フランソワーズ', '*', '*', '*', '*', '*']\n",
      "['東京オリンピック', 4786, 4786, -3750, '東京オリンピック', '名詞', '固有名詞', '一般', '*', '*', '*', '東京オリンピック', '東京オリンピック', '*', '*', '*', '*', '*']\n"
     ]
    }
   ],
   "metadata": {}
  },
  {
   "cell_type": "markdown",
   "source": [
    "# .sudachiにユーザ定義辞書を保存"
   ],
   "metadata": {}
  },
  {
   "cell_type": "code",
   "execution_count": 92,
   "source": [
    "import os\n",
    "cwd = os.getcwd()\n",
    "print(cwd)\n",
    "dic_dir = f\"{cwd}/.sudachi\"\n",
    "os.makedirs(dic_dir, exist_ok=True)"
   ],
   "outputs": [
    {
     "output_type": "stream",
     "name": "stdout",
     "text": [
      "/workspace\n"
     ]
    }
   ],
   "metadata": {}
  },
  {
   "cell_type": "code",
   "execution_count": 93,
   "source": [
    "columns = [\"見出し\", \"左連接ID\", \"右連接ID\", \"コスト\", \"見出し\", \"品詞1\", \"品詞2\", \"品詞3\", \"品詞4\", \n",
    "           \"品詞 (活用型)\", \"品詞 (活用形)\", \"読み\", \"正規化表記\", \"辞書形ID\", \"分割タイプ\", \"A単位分割情報\", \"B単位分割情報\", \"未使用\"]"
   ],
   "outputs": [],
   "metadata": {}
  },
  {
   "cell_type": "code",
   "execution_count": 94,
   "source": [
    "import pandas as pd\n",
    "df = pd.DataFrame(new_user_dic, columns=columns)\n",
    "df.head()\n",
    "df.to_csv(f\"{dic_dir}/user_dic.csv\", header=None, index=False)"
   ],
   "outputs": [],
   "metadata": {}
  },
  {
   "cell_type": "markdown",
   "source": [
    "# ユーザ定義辞書をビルド"
   ],
   "metadata": {}
  },
  {
   "cell_type": "code",
   "execution_count": 95,
   "source": [
    "import sys\n",
    "\n",
    "site_package = \"\"\n",
    "for p in sys.path:\n",
    "    if \"site-packages\" in os.path.basename(p):\n",
    "        site_package = p\n",
    "print(site_package)"
   ],
   "outputs": [
    {
     "output_type": "stream",
     "name": "stdout",
     "text": [
      "/root/.pyenv/versions/3.9.7/lib/python3.9/site-packages\n"
     ]
    }
   ],
   "metadata": {}
  },
  {
   "cell_type": "code",
   "execution_count": 96,
   "source": [
    "# user dicの作成 (.sudachi/user.dicが作成される)\n",
    "!rm {dic_dir}/user.dic\n",
    "!sudachipy ubuild -s '{site_package}/sudachidict_core/resources/system.dic' {dic_dir}/user_dic.csv -o {dic_dir}/user.dic"
   ],
   "outputs": [
    {
     "output_type": "stream",
     "name": "stdout",
     "text": [
      "/workspace/.sudachi/user_dic.csv -> 3 in 0.01 sec\n",
      "validate -> 3 in 0.00 sec\n",
      "pos_table -> 2 in 0.00 sec\n",
      "conn_matrix -> 6 in 0.00 sec\n",
      "trie -> 1028 in 0.00 sec\n",
      "word_id table -> 19 in 0.00 sec\n",
      "word_params -> 22 in 0.00 sec\n",
      "wordinfo_offsets -> 12 in 0.00 sec\n",
      "wordinfos (copy only) -> 92 in 0.00 sec\n"
     ]
    }
   ],
   "metadata": {}
  },
  {
   "cell_type": "code",
   "execution_count": 97,
   "source": [
    "sudachi_config_path = os.path.join(site_package, \"sudachipy/resources/sudachi.json\")\n",
    "print(sudachi_config_path)\n",
    "!cat {sudachi_config_path}"
   ],
   "outputs": [
    {
     "output_type": "stream",
     "name": "stdout",
     "text": [
      "/root/.pyenv/versions/3.9.7/lib/python3.9/site-packages/sudachipy/resources/sudachi.json\n",
      "{\n",
      "    \"systemDict\" : null,\n",
      "    \"characterDefinitionFile\" : \"char.def\",\n",
      "    \"inputTextPlugin\" : [\n",
      "        { \"class\" : \"com.worksap.nlp.sudachi.DefaultInputTextPlugin\" },\n",
      "        { \"class\" : \"com.worksap.nlp.sudachi.ProlongedSoundMarkPlugin\",\n",
      "          \"prolongedSoundMarks\": [\"ー\", \"-\", \"⁓\", \"〜\", \"〰\"],\n",
      "          \"replacementSymbol\": \"ー\"},\n",
      "\t    { \"class\": \"com.worksap.nlp.sudachi.IgnoreYomiganaPlugin\",\n",
      "          \"leftBrackets\": [\"(\", \"（\"],\n",
      "          \"rightBrackets\": [\")\", \"）\"],\n",
      "          \"maxYomiganaLength\": 4}\n",
      "    ],\n",
      "    \"oovProviderPlugin\" : [\n",
      "        { \"class\" : \"com.worksap.nlp.sudachi.MeCabOovPlugin\",\n",
      "          \"charDef\" : \"char.def\",\n",
      "          \"unkDef\" : \"unk.def\" },\n",
      "        { \"class\" : \"com.worksap.nlp.sudachi.SimpleOovPlugin\",\n",
      "          \"oovPOS\" : [ \"補助記号\", \"一般\", \"*\", \"*\", \"*\", \"*\" ],\n",
      "          \"leftId\" : 5968,\n",
      "          \"rightId\" : 5968,\n",
      "          \"cost\" : 3857 }\n",
      "    ],\n",
      "    \"pathRewritePlugin\" : [\n",
      "        { \"class\" : \"com.worksap.nlp.sudachi.JoinNumericPlugin\",\n",
      "          \"enableNormalize\" : true },\n",
      "        { \"class\" : \"com.worksap.nlp.sudachi.JoinKatakanaOovPlugin\",\n",
      "          \"oovPOS\" : [ \"名詞\", \"普通名詞\", \"一般\", \"*\", \"*\", \"*\" ],\n",
      "          \"minLength\" : 3\n",
      "        }\n",
      "    ]\n",
      "}\n"
     ]
    }
   ],
   "metadata": {}
  },
  {
   "cell_type": "code",
   "execution_count": 98,
   "source": [
    "# .sudachiにリソース関連をコピーし、設定ファイルを書き換える。\n",
    "# \"userDict\" : [\"/workspace/.sudachi/user.dic\"] を追記\n",
    "# !cp -r /root/.pyenv/versions/3.9.7/lib/python3.9/site-packages/sudachipy/resources ./.sudachi/"
   ],
   "outputs": [],
   "metadata": {}
  },
  {
   "cell_type": "markdown",
   "source": [
    "# ginzaでユーザ定義辞書を読み込む"
   ],
   "metadata": {}
  },
  {
   "cell_type": "code",
   "execution_count": 105,
   "source": [
    "from spacy.lang.ja import JapaneseTokenizer\n",
    "\n",
    "# https://github.com/megagonlabs/ginza/blob/61cb655f2e5c85980f1a1bbc7d833623931e4235/ginza/analyzer.py\n",
    "def try_sudachi_import(split_mode=\"A\", config_path=None):\n",
    "    try:\n",
    "        from sudachipy import dictionary, tokenizer\n",
    "\n",
    "        split_mode = {\n",
    "            None: tokenizer.Tokenizer.SplitMode.A,\n",
    "            \"A\": tokenizer.Tokenizer.SplitMode.A,\n",
    "            \"B\": tokenizer.Tokenizer.SplitMode.B,\n",
    "            \"C\": tokenizer.Tokenizer.SplitMode.C,\n",
    "        }[split_mode]\n",
    "\n",
    "        tok = dictionary.Dictionary(config_path=config_path).create(mode=split_mode)\n",
    "        return tok\n",
    "    except ImportError:\n",
    "        raise ImportError(\n",
    "            \"Japanese support requires SudachiPy and SudachiDict-core \"\n",
    "            \"(https://github.com/WorksApplications/SudachiPy). \"\n",
    "            \"Install with `pip install sudachipy sudachidict_core` or \"\n",
    "            \"install spaCy with `pip install spacy[ja]`.\"\n",
    "        ) from None\n",
    "\n",
    "class MySudachiTokenizer(JapaneseTokenizer):\n",
    "    def __init__(self, nlp, config_path=None) -> None:\n",
    "        self.nlp = nlp\n",
    "        self.vocab = nlp.vocab\n",
    "        self.split_mode= nlp.tokenizer.split_mode\n",
    "        self.tokenizer = try_sudachi_import(\n",
    "            split_mode=self.split_mode, config_path=config_path\n",
    "        )\n",
    "        \n",
    "        self.need_subtokens = not (self.split_mode is None or self.split_mode == \"A\")\n",
    "        "
   ],
   "outputs": [],
   "metadata": {}
  },
  {
   "cell_type": "code",
   "execution_count": 106,
   "source": [
    "import spacy\n",
    "import ginza\n",
    "\n",
    "nlp = spacy.load('ja_ginza')\n",
    "ginza.set_split_mode(nlp, \"A\")\n",
    "\n",
    "rep_nlp = nlp"
   ],
   "outputs": [],
   "metadata": {}
  },
  {
   "cell_type": "code",
   "execution_count": 107,
   "source": [
    "text = \"ルイズ・フランソワーズは、ゼロの使い魔のヒロインです。\"\n",
    "text = normalize_text(text)\n",
    "print(text)\n",
    "doc = nlp(text)\n",
    "\n",
    "for sent in doc.sents:\n",
    "    for token in sent:\n",
    "        print(token.i, token.orth_, token.tag_)"
   ],
   "outputs": [
    {
     "output_type": "stream",
     "name": "stdout",
     "text": [
      "ルイズ・フランソワーズは、ゼロの使い魔のヒロインです。\n",
      "0 ルイズ 名詞-固有名詞-人名-一般\n",
      "1 ・ 補助記号-一般\n",
      "2 フランソワーズ 名詞-固有名詞-人名-一般\n",
      "3 は 助詞-係助詞\n",
      "4 、 補助記号-読点\n",
      "5 ゼロ 名詞-数詞\n",
      "6 の 助詞-格助詞\n",
      "7 使い魔 名詞-普通名詞-一般\n",
      "8 の 助詞-格助詞\n",
      "9 ヒロイン 名詞-普通名詞-一般\n",
      "10 です 助動詞\n",
      "11 。 補助記号-句点\n"
     ]
    }
   ],
   "metadata": {}
  },
  {
   "cell_type": "code",
   "execution_count": 110,
   "source": [
    "config_path = \"/workspace/.sudachi/resources/sudachi.json\"\n",
    "#config_path = None\n",
    "rep_nlp.tokenizer = MySudachiTokenizer(rep_nlp, config_path=config_path)"
   ],
   "outputs": [],
   "metadata": {}
  },
  {
   "cell_type": "code",
   "execution_count": 111,
   "source": [
    "doc = rep_nlp(text)\n",
    "\n",
    "for sent in doc.sents:\n",
    "    for token in sent:\n",
    "        print(token.i, token.orth_, token.tag_)"
   ],
   "outputs": [
    {
     "output_type": "stream",
     "name": "stdout",
     "text": [
      "0 ルイズ・フランソワーズ 名詞-固有名詞-人名-一般\n",
      "1 は 助詞-係助詞\n",
      "2 、 補助記号-読点\n",
      "3 ゼロの使い魔 名詞-固有名詞-一般\n",
      "4 の 助詞-格助詞\n",
      "5 ヒロイン 名詞-普通名詞-一般\n",
      "6 です 助動詞\n",
      "7 。 補助記号-句点\n"
     ]
    }
   ],
   "metadata": {}
  },
  {
   "cell_type": "code",
   "execution_count": null,
   "source": [],
   "outputs": [],
   "metadata": {}
  }
 ],
 "metadata": {
  "orig_nbformat": 4,
  "language_info": {
   "name": "python",
   "version": "3.9.7",
   "mimetype": "text/x-python",
   "codemirror_mode": {
    "name": "ipython",
    "version": 3
   },
   "pygments_lexer": "ipython3",
   "nbconvert_exporter": "python",
   "file_extension": ".py"
  },
  "kernelspec": {
   "name": "python3",
   "display_name": "Python 3.9.7 64-bit ('3.9.7': pyenv)"
  },
  "interpreter": {
   "hash": "f3a10a39ed293949880291ee6cb57aebf58abbce800c0c171c1df1c858c7c804"
  }
 },
 "nbformat": 4,
 "nbformat_minor": 2
}